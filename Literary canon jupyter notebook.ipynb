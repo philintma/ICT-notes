{
 "cells": [
  {
   "cell_type": "markdown",
   "metadata": {},
   "source": [
    "Это ноутбук, в котором собраны файлы для проекта по изучению литературного канона в Системном Блоке. Мы работали над материалом о том, как менялась школьная программа по литературе на протяжении советского и постсоветского периода. На основе анализа датасетов с программами за 1919-2022 мы хотим показать\n",
    "а) в какие периоды и почему происходили существенные изменения; \n",
    "в) есть ли что-то общее в подходах к наполнению программы между сегодняшним днем и советским временем; \n",
    "в) существует ли то, что называется “литературным каноном” ― комплексом базовых произведений русской и зарубежной литературы, которые с точки зрения авторов программ обязательны для изучения.\n"
   ]
  },
  {
   "cell_type": "markdown",
   "metadata": {},
   "source": [
    "Гипотеза 1. Существует набор произведений, изучение которых остается неизменным независимо от времени: они составляют более 50% произведений 90% программ.\n",
    "\n",
    "Гипотеза 2. Содержание школьных программ подвергается трансформации в следующие моменты:  середина 1920-х (1924, 25 или 26-й годы); начало 1930-х (1932-33);  после войны — 1947 или 1948; начало оттепели — 1955 или 1956; начало 1970-х; перестройка (1986-87); 1991; конец 1990-х (1998 или 1999); 2003-2006, когда вводился ЕГЭ; 2015 г. после присоединения Крыма. \n",
    "\n",
    "Гипотеза 3. В содержании школьных программ отражаются культурные, политические, идеологические установки современности (не проверялась, на будущее).\n",
    "\n",
    "Гипотеза 4. Процент зарубежной литературы в программе изменяется в разные года и может быть объяснен идеологическими установками времени (в 2014 и 2022 он будет меньше, чем до этого; в 1960, 1970, 1991 будет больше, чем до этого).\n",
    "\n",
    "Гипотеза 5. (подпункт гипотез 2 или 3) Соотношение современной и классической литературы меняется и может быть объяснено идеологическими установками. Более 60% взвешенного авторского состава программ ― это представители русской классической литературы 1830-1890-х гг. В 2014, 2022 будет появляться больше произведений 19 века; в 1991 и начале 2000-х будет больше современных произведений. "
   ]
  },
  {
   "cell_type": "code",
   "execution_count": 3,
   "metadata": {},
   "outputs": [],
   "source": [
    "import pandas as pd\n",
    "from difflib import SequenceMatcher\n",
    "from itertools import combinations\n",
    "from tqdm import tqdm_notebook\n",
    "import numpy\n",
    "import matplotlib.pyplot as plt\n",
    "import math"
   ]
  },
  {
   "cell_type": "markdown",
   "metadata": {},
   "source": [
    "Dataset cleaning"
   ]
  },
  {
   "cell_type": "code",
   "execution_count": null,
   "metadata": {},
   "outputs": [],
   "source": [
    "sheet_id = '1GwpzLCLKDT3jpnRq4no2VRBeMN8EHHpWfqXiR2qJHv0'\n",
    "gid = '344724416' #607689667 для листа с размеченной зарубежностью и веком, 344724416 для оригинального листа без нее\n",
    "csv_url = f'https://docs.google.com/spreadsheets/d/{sheet_id}/export?format=csv&gid={gid}'\n",
    "df_soviet = pd.read_csv(csv_url)\n",
    "# df_soviet = df_soviet[df_soviet['priority'] != '*']\n",
    "df_soviet"
   ]
  },
  {
   "cell_type": "code",
   "execution_count": null,
   "metadata": {},
   "outputs": [],
   "source": [
    "sheet_id = '1GwpzLCLKDT3jpnRq4no2VRBeMN8EHHpWfqXiR2qJHv0'\n",
    "gid = '1490854705' #1490854705 для общей программы;'727497467' для датасета где для 2007 и позже только ОГЭ-ЕГЭ, '836074625' для датасета, где только рабочие программы\n",
    "csv_url = f'https://docs.google.com/spreadsheets/d/{sheet_id}/export?format=csv&gid={gid}'\n",
    "df_contemporary = pd.read_csv(csv_url)\n",
    "# df_contemporary = df_contemporary[df_contemporary['group'].isnull()]\n",
    "# df_contemporary = df_contemporary[(df_contemporary['oblig_title'] != 'нет') | (df_contemporary['source_year'].isin([1998, 1999]))]\n",
    "df_contemporary = df_contemporary.rename(columns={\"source_year\": \"year\"})\n",
    "df_contemporary"
   ]
  },
  {
   "cell_type": "code",
   "execution_count": null,
   "metadata": {},
   "outputs": [],
   "source": [
    "df_all = pd.concat([df_soviet, df_contemporary], ignore_index=True, sort=False)\n",
    "df_all"
   ]
  },
  {
   "cell_type": "code",
   "execution_count": null,
   "metadata": {},
   "outputs": [],
   "source": [
    "def similar(a, b):\n",
    "    return SequenceMatcher(None, a, b).ratio()\n",
    "threshold = 0.75 \n",
    " \n",
    "similar_authors = []\n",
    "\n",
    "column1 = df_soviet['author'].dropna().unique()\n",
    "column2 = df_contemporary['author'].dropna().unique()\n",
    "\n",
    "for i in range(len(column1)):\n",
    "    for j in range(len(column2)):  \n",
    "        # print(df['author'][i], df['author'][j])\n",
    "        if type(column1[i]) == str and type(column2[j]) == str: #to avoid error with comparing author to nan\n",
    "            similarity = similar(column1[i], column2[j])\n",
    "            if similarity > threshold and similarity < 1:\n",
    "                similar_authors.append((column1[i], column2[j]))\n",
    "\n",
    "similar_authors \n",
    "#этот код показал нескольких авторов, которые присутствовали в разных вариантах - например, Байрон Дж.Г. и Байрон Дж. Они были унифицированы"
   ]
  },
  {
   "cell_type": "code",
   "execution_count": null,
   "metadata": {},
   "outputs": [],
   "source": [
    "similar_titles = []\n",
    "\n",
    "column1 = df_soviet['title'].dropna().unique()\n",
    "column2 = df_contemporary['title'].dropna().unique()\n",
    "\n",
    "for i in range(len(column1)):\n",
    "    for j in range(len(column2)):  \n",
    "        if type(column1[i]) == str and type(column2[j]) == str: #to avoid error with comparing to nan\n",
    "            similarity = similar(column1[i], column2[j])\n",
    "            if similarity > threshold and similarity < 1:\n",
    "                similar_titles.append((column1[i], column2[j]))\n",
    "\n",
    "similar_titles, len(similar_titles) \n",
    "#этот код показал около сорока произведений, которые разнятся в двух датасетах (в основном стихотворения, названные по первой строке и басни типа Листы и корни - Листы и Корни). Они были заменены в советском датасете"
   ]
  },
  {
   "cell_type": "code",
   "execution_count": null,
   "metadata": {},
   "outputs": [],
   "source": [
    "#теперь сравним советский и современный датасеты самих с собой, чтобы убедиться, что в них нет ошибок. этот код нашел несколько опечаток, они были заменены\n",
    "similar_titles = []\n",
    "\n",
    "column1 = df_soviet['title'].dropna().unique()\n",
    "\n",
    "for i in range(len(column1)):\n",
    "    for j in range(i+1, len(column1)):  \n",
    "        if type(column1[i]) == str and type(column1[j]) == str: #to avoid error with comparing to nan\n",
    "            similarity = similar(column1[i], column1[j])\n",
    "            if similarity > threshold and similarity < 1:\n",
    "                similar_titles.append((column1[i], column1[j]))\n",
    "\n",
    "# print(similar_titles) \n",
    "\n",
    "# similar_titles = []\n",
    "\n",
    "# column1 = df_contemporary['title'].dropna().unique()\n",
    "\n",
    "# for i in range(len(column1)):\n",
    "#     for j in range(i+1, len(column1)):  \n",
    "#         if type(column1[i]) == str and type(column1[j]) == str: #to avoid error with comparing to nan\n",
    "#             similarity = similar(column1[i], column1[j])\n",
    "#             if similarity > threshold and similarity < 1:\n",
    "#                 similar_titles.append((column1[i], column1[j]))\n",
    "\n",
    "similar_titles"
   ]
  },
  {
   "cell_type": "code",
   "execution_count": null,
   "metadata": {},
   "outputs": [],
   "source": [
    "similar_authors = []\n",
    "\n",
    "column1 = df_soviet['author'].dropna().unique()\n",
    "\n",
    "for i in range(len(column1)):\n",
    "    for j in range(i+1, len(column1)):  \n",
    "        if type(column1[i]) == str and type(column1[j]) == str: #to avoid error with comparing to nan\n",
    "            similarity = similar(column1[i], column1[j])\n",
    "            if similarity > threshold and similarity < 1:\n",
    "                similar_authors.append((column1[i], column1[j]))\n",
    "\n",
    "similar_authors, len(similar_authors) \n",
    "\n",
    "similar_authors = []\n",
    "\n",
    "column1 = df_contemporary['author'].dropna().unique()\n",
    "\n",
    "for i in range(len(column1)):\n",
    "    for j in range(i+1, len(column1)):  \n",
    "        if type(column1[i]) == str and type(column1[j]) == str: #to avoid error with comparing to nan\n",
    "            similarity = similar(column1[i], column1[j])\n",
    "            if similarity > threshold and similarity < 1:\n",
    "                similar_authors.append((column1[i], column1[j]))\n",
    "\n",
    "similar_authors, len(similar_authors) "
   ]
  },
  {
   "cell_type": "markdown",
   "metadata": {},
   "source": [
    "Hypothesis 1. Literary canon"
   ]
  },
  {
   "cell_type": "markdown",
   "metadata": {},
   "source": [
    "Сначала посчитаем, сколько всего произведений встречаются в 90% программ или больше, чтобы понять общую картину. Здесь представлен расчет для общей программы, его можно заменить на современную или советскую, поменяв df_all на df_soviet или df_contemporary."
   ]
  },
  {
   "cell_type": "code",
   "execution_count": null,
   "metadata": {},
   "outputs": [],
   "source": [
    "sheet_id = '1GwpzLCLKDT3jpnRq4no2VRBeMN8EHHpWfqXiR2qJHv0'\n",
    "gid = '344724416' #607689667 для листа с размеченной зарубежностью и веком, 344724416 для оригинального листа без нее\n",
    "csv_url = f'https://docs.google.com/spreadsheets/d/{sheet_id}/export?format=csv&gid={gid}'\n",
    "df_soviet = pd.read_csv(csv_url)\n",
    "# df_soviet = df_soviet[df_soviet['priority'] != '*']\n",
    "\n",
    "sheet_id = '1GwpzLCLKDT3jpnRq4no2VRBeMN8EHHpWfqXiR2qJHv0'\n",
    "gid = '1490854705' #1490854705 для общей программы;'727497467' для датасета где для 2007 и позже только ОГЭ-ЕГЭ, '836074625' для датасета, где только рабочие программы\n",
    "csv_url = f'https://docs.google.com/spreadsheets/d/{sheet_id}/export?format=csv&gid={gid}'\n",
    "df_contemporary = pd.read_csv(csv_url)\n",
    "df_contemporary = df_contemporary[df_contemporary['group'].isnull()] #убрали необязательное\n",
    "df_contemporary = df_contemporary[(df_contemporary['oblig_title'] != 'нет') | (df_contemporary['source_year'].isin([1998, 1999]))] #убрали необязательное кроме годов 98-99, где его очень много\n",
    "df_contemporary = df_contemporary.rename(columns={\"source_year\": \"year\"})\n",
    "\n",
    "df_all = pd.concat([df_soviet, df_contemporary], ignore_index=True, sort=False)\n",
    "df_all"
   ]
  },
  {
   "cell_type": "code",
   "execution_count": null,
   "metadata": {},
   "outputs": [],
   "source": [
    "all_titles = df_all[['author', 'title', 'year']].drop_duplicates().dropna(subset='author').dropna(subset='title') #['author', 'year']\n",
    "all_titles"
   ]
  },
  {
   "cell_type": "code",
   "execution_count": null,
   "metadata": {},
   "outputs": [],
   "source": [
    "grouped_by_year = all_titles.groupby(['year']).count()\n",
    "grouped_by_year = grouped_by_year.sort_values(by=['author'], ascending=False)\n",
    "grouped_by_year, grouped_by_year['author'].mean()\n",
    "\n",
    "#каждый год у нас от 55 до 386 произведений, в среднем - 191 произведение"
   ]
  },
  {
   "cell_type": "code",
   "execution_count": null,
   "metadata": {},
   "outputs": [],
   "source": [
    "grouped = all_titles.groupby(['author', 'title']).count() #(['author']).count()\n",
    "grouped = grouped.sort_values(by=['year'], ascending=False)\n",
    "grouped.head(16)\n",
    "#посчитали, сколько раз встречается каждое произведение"
   ]
  },
  {
   "cell_type": "code",
   "execution_count": null,
   "metadata": {},
   "outputs": [],
   "source": [
    "#unique_years = len(df_soviet['year'].unique())\n",
    "unique_years = len(df_all['year'].drop_duplicates().dropna())\n",
    "print(unique_years)\n",
    "grouped['year'] = grouped['year'] / unique_years\n",
    "grouped.head(22)"
   ]
  },
  {
   "cell_type": "code",
   "execution_count": null,
   "metadata": {},
   "outputs": [],
   "source": [
    "(grouped['year'] >= 0.9).sum()"
   ]
  },
  {
   "cell_type": "markdown",
   "metadata": {},
   "source": [
    "Итог: для современной программы 128 произведений встречаются в 90% программ или больше, для советской - 21, для обеих - 16. Исходя из этого кажется, что на современной программе гипотеза может выполниться, на других - точно нет. Сейчас проверим это строго."
   ]
  },
  {
   "cell_type": "markdown",
   "metadata": {},
   "source": [
    "Современная программа:"
   ]
  },
  {
   "cell_type": "code",
   "execution_count": null,
   "metadata": {},
   "outputs": [],
   "source": [
    "years_contemporary = df_contemporary['year'].unique()\n",
    "years_contemporary, len(years_contemporary)"
   ]
  },
  {
   "cell_type": "code",
   "execution_count": null,
   "metadata": {},
   "outputs": [],
   "source": [
    "# percentage_by_year = []\n",
    "for array in combinations(years_contemporary, 18):\n",
    "    # print(array)\n",
    "    # print(df_contemporary.head)\n",
    "    df_years = df_contemporary[df_contemporary['year'].isin(array)]\n",
    "    # print(df_years)\n",
    "    all_titles_combination = df_years[['author', 'title', 'year']].drop_duplicates().dropna(subset='author').dropna(subset='title') \n",
    "    grouped = all_titles_combination.groupby(['author', 'title']).count() #(['author']).count()\n",
    "    grouped = grouped.sort_values(by=['year'], ascending=False)\n",
    "    percentage_for_each_year = []\n",
    "    if len(grouped[grouped['year']==18]) == 128:\n",
    "        grouped[grouped['year']==18].to_csv(\"canon_results_2.csv\")\n",
    "        for year in array:\n",
    "            df_year = all_titles_combination[all_titles_combination['year']==year]\n",
    "            percentage_for_each_year.append(128/len(df_year))\n",
    "        print(percentage_for_each_year)\n",
    "\n",
    "    #percentage_by_year.append(len(grouped[grouped['year']==18]))\n",
    "\n",
    "# percentage_by_year.sort(reverse=True)\n",
    "# percentage_by_year[:20]"
   ]
  },
  {
   "cell_type": "markdown",
   "metadata": {},
   "source": [
    "Вывод: есть канон из 128 произведений, которые в 90% программ составляют не менее 46% каждой программы. При этом два года, не попавшие в эти 90% - это 1998 и 1999, потому что программы за них сильно отличаются и по тому, как организованы (что обязательно, что нет), и по смыслу. Также наш результат в 46% немного больше настоящего процента, поскольку мы не учитывали группы (набор произведений, из которых обязательно пройти только определенное количество).\n",
    "Теперь посчитаем то же самое на советской программе."
   ]
  },
  {
   "cell_type": "code",
   "execution_count": null,
   "metadata": {},
   "outputs": [],
   "source": [
    "years_soviet = df_soviet['year'].unique()\n",
    "years_soviet = years_soviet[:-1] #[:-1], поскольку в конце откуда-то появляется ненужный nan, даже хотя я до этого делала dropna\n",
    "years_soviet, len(years_soviet), len(years_soviet)*0.9"
   ]
  },
  {
   "cell_type": "markdown",
   "metadata": {},
   "source": [
    "Сейчас посмотрим на максимальное возможное значение, которое мы получим: это 47-42+1 = шестое (в идеальном случае пять самых маленьких мы можем отбросить) по порядку минимальное значение отношения 21 (максимальный возможный размер канона, как посчитано выше) к размеру программы    "
   ]
  },
  {
   "cell_type": "code",
   "execution_count": null,
   "metadata": {},
   "outputs": [],
   "source": [
    "all_titles_soviet = df_soviet[['author', 'title', 'year']].drop_duplicates().dropna(subset='author').dropna(subset='title')\n",
    "canon_to_all = []\n",
    "for year in years_soviet:\n",
    "    print(year)\n",
    "    df_year = all_titles_soviet[all_titles_soviet['year']==year]\n",
    "    canon_to_all.append((21/len(df_year)))\n",
    "\n",
    "canon_to_all.sort()\n",
    "canon_to_all[5], canon_to_all\n",
    "    "
   ]
  },
  {
   "cell_type": "markdown",
   "metadata": {},
   "source": [
    "Код ниже посчитал бы этот процент строго, но он очень долгий (6 часов), поэтому пока мы записали максимальный возможный процент: 8.7%"
   ]
  },
  {
   "cell_type": "code",
   "execution_count": null,
   "metadata": {},
   "outputs": [],
   "source": [
    "percentage_by_year = []\n",
    "for array in tqdm_notebook(combinations(years_soviet, 42), total =  1533939):\n",
    "    # print(array)\n",
    "    df_years = df_soviet[df_soviet['year'].isin(array)]\n",
    "    #print(df_years)\n",
    "    all_titles_combination = df_years[['author', 'title', 'year']].drop_duplicates().dropna(subset='author').dropna(subset='title') \n",
    "    grouped = all_titles_combination.groupby(['author', 'title']).count() #(['author']).count()\n",
    "    grouped = grouped.sort_values(by=['year'], ascending=False)\n",
    "    # print(len(grouped[grouped['year']==43]))\n",
    "    percentage_for_each_year = []\n",
    "\n",
    "    for year in array:\n",
    "        df_year = all_titles_combination[all_titles_combination['year']==year]\n",
    "        percentage_for_each_year.append(21/len(df_year))\n",
    "    print(min(percentage_for_each_year))\n",
    "\n",
    "    percentage_by_year.append((len(grouped[grouped['year']==43]), array))\n",
    "\n",
    "percentage_by_year.sort(reverse=True)\n",
    "percentage_by_year[:20]"
   ]
  },
  {
   "cell_type": "code",
   "execution_count": null,
   "metadata": {},
   "outputs": [],
   "source": [
    "years_all = numpy.concatenate((years_soviet, years_contemporary), axis = 0)\n",
    "years_all, len(years_all), len(years_all)*0.9"
   ]
  },
  {
   "cell_type": "code",
   "execution_count": null,
   "metadata": {},
   "outputs": [],
   "source": [
    "all_titles_both = df_all[['author', 'title', 'year']].drop_duplicates().dropna(subset='author').dropna(subset='title')\n",
    "canon_to_all = []\n",
    "for year in years_all:\n",
    "    print(year)\n",
    "    df_year = all_titles_both[all_titles_both['year']==year]\n",
    "    canon_to_all.append((16/len(df_year)))\n",
    "\n",
    "canon_to_all.sort()\n",
    "canon_to_all[7], canon_to_all"
   ]
  },
  {
   "cell_type": "markdown",
   "metadata": {},
   "source": [
    "Вывод: максимальное возможное значение доли канона в 90% программ - 8.7% для советской программы, 6.6% для общей программы."
   ]
  },
  {
   "cell_type": "markdown",
   "metadata": {},
   "source": [
    "Гипотеза 2.\n",
    "В этой гипотезе мы смотрели только на взвешенный авторский состав и не смотрели на произведения."
   ]
  },
  {
   "cell_type": "code",
   "execution_count": 5,
   "metadata": {},
   "outputs": [],
   "source": [
    "sheet_id = '1GwpzLCLKDT3jpnRq4no2VRBeMN8EHHpWfqXiR2qJHv0'\n",
    "gid = '607689667' #607689667 для листа с размеченной зарубежностью и веком, 344724416 для оригинального листа без нее\n",
    "csv_url = f'https://docs.google.com/spreadsheets/d/{sheet_id}/export?format=csv&gid={gid}'\n",
    "df_soviet_hyp_2 = pd.read_csv(csv_url)\n",
    "# df_soviet = df_soviet[df_soviet['priority'] != '*']\n",
    "df_soviet_hyp_2 = df_soviet_hyp_2[df_soviet_hyp_2[\"type\"] == \"отечественная\"]\n",
    "\n",
    "sheet_id = '1GwpzLCLKDT3jpnRq4no2VRBeMN8EHHpWfqXiR2qJHv0'\n",
    "gid = '727497467' #1490854705 для общей программы;'727497467' для датасета где для 2007 и позже только ОГЭ-ЕГЭ, '836074625' для датасета, где только рабочие программы\n",
    "csv_url = f'https://docs.google.com/spreadsheets/d/{sheet_id}/export?format=csv&gid={gid}'\n",
    "df_contemporary_hyp_2 = pd.read_csv(csv_url)\n",
    "# df_contemporary_hyp_2 = df_contemporary_hyp_2[df_contemporary_hyp_2['group'].isnull()] #убрали необязательное\n",
    "# df_contemporary_hyp_2 = df_contemporary_hyp_2[(df_contemporary_hyp_2['oblig_title'] != 'нет') | (df_contemporary_hyp_2['source_year'].isin([1998, 1999]))] #убрали необязательное кроме годов 98-99, где его очень много\n",
    "df_contemporary_hyp_2 = df_contemporary_hyp_2.rename(columns={\"source_year\": \"year\"})\n",
    "df_contemporary_hyp_2.dropna(subset=['year'], inplace=True)\n",
    "df_contemporary_hyp_2 = df_contemporary_hyp_2[df_contemporary_hyp_2[\"type\"] == \"отечественная\"]"
   ]
  },
  {
   "cell_type": "code",
   "execution_count": 6,
   "metadata": {},
   "outputs": [
    {
     "data": {
      "text/html": [
       "<div>\n",
       "<style scoped>\n",
       "    .dataframe tbody tr th:only-of-type {\n",
       "        vertical-align: middle;\n",
       "    }\n",
       "\n",
       "    .dataframe tbody tr th {\n",
       "        vertical-align: top;\n",
       "    }\n",
       "\n",
       "    .dataframe thead th {\n",
       "        text-align: right;\n",
       "    }\n",
       "</style>\n",
       "<table border=\"1\" class=\"dataframe\">\n",
       "  <thead>\n",
       "    <tr style=\"text-align: right;\">\n",
       "      <th></th>\n",
       "      <th>author</th>\n",
       "      <th>title</th>\n",
       "      <th>comment</th>\n",
       "      <th>curriculum</th>\n",
       "      <th>id</th>\n",
       "      <th>year</th>\n",
       "      <th>grade</th>\n",
       "      <th>priority</th>\n",
       "      <th>type</th>\n",
       "      <th>century</th>\n",
       "      <th>Unnamed: 10</th>\n",
       "      <th>Unnamed: 11</th>\n",
       "      <th>Unnamed: 12</th>\n",
       "      <th>Unnamed: 13</th>\n",
       "      <th>Unnamed: 14</th>\n",
       "      <th>Unnamed: 15</th>\n",
       "      <th>Unnamed: 16</th>\n",
       "      <th>Unnamed: 17</th>\n",
       "      <th>Unnamed: 18</th>\n",
       "    </tr>\n",
       "  </thead>\n",
       "  <tbody>\n",
       "    <tr>\n",
       "      <th>0</th>\n",
       "      <td>Пушкин А.С.</td>\n",
       "      <td>…Вновь я посетил…</td>\n",
       "      <td>NaN</td>\n",
       "      <td>39 ПСШ 8-10</td>\n",
       "      <td>9</td>\n",
       "      <td>1939</td>\n",
       "      <td>8</td>\n",
       "      <td>*</td>\n",
       "      <td>отечественная</td>\n",
       "      <td>19</td>\n",
       "      <td>NaN</td>\n",
       "      <td>NaN</td>\n",
       "      <td>NaN</td>\n",
       "      <td>NaN</td>\n",
       "      <td>NaN</td>\n",
       "      <td>NaN</td>\n",
       "      <td>NaN</td>\n",
       "      <td>NaN</td>\n",
       "      <td>NaN</td>\n",
       "    </tr>\n",
       "    <tr>\n",
       "      <th>1</th>\n",
       "      <td>Крылов И.А.</td>\n",
       "      <td>Басни</td>\n",
       "      <td>NaN</td>\n",
       "      <td>19 ИРЛ 2 ст</td>\n",
       "      <td>1</td>\n",
       "      <td>1919</td>\n",
       "      <td>7</td>\n",
       "      <td>NaN</td>\n",
       "      <td>отечественная</td>\n",
       "      <td>18–19</td>\n",
       "      <td>NaN</td>\n",
       "      <td>NaN</td>\n",
       "      <td>NaN</td>\n",
       "      <td>NaN</td>\n",
       "      <td>NaN</td>\n",
       "      <td>NaN</td>\n",
       "      <td>NaN</td>\n",
       "      <td>NaN</td>\n",
       "      <td>NaN</td>\n",
       "    </tr>\n",
       "    <tr>\n",
       "      <th>2</th>\n",
       "      <td>Пушкин А.С.</td>\n",
       "      <td>…Вновь я посетил…</td>\n",
       "      <td>NaN</td>\n",
       "      <td>40 ПСШ 8-10</td>\n",
       "      <td>10</td>\n",
       "      <td>1940</td>\n",
       "      <td>8</td>\n",
       "      <td>*</td>\n",
       "      <td>отечественная</td>\n",
       "      <td>19</td>\n",
       "      <td>NaN</td>\n",
       "      <td>NaN</td>\n",
       "      <td>NaN</td>\n",
       "      <td>NaN</td>\n",
       "      <td>NaN</td>\n",
       "      <td>NaN</td>\n",
       "      <td>NaN</td>\n",
       "      <td>NaN</td>\n",
       "      <td>NaN</td>\n",
       "    </tr>\n",
       "    <tr>\n",
       "      <th>3</th>\n",
       "      <td>Карамзин Н.М.</td>\n",
       "      <td>Бедная Лиза</td>\n",
       "      <td>NaN</td>\n",
       "      <td>19 ИРЛ 2 ст</td>\n",
       "      <td>1</td>\n",
       "      <td>1919</td>\n",
       "      <td>7</td>\n",
       "      <td>NaN</td>\n",
       "      <td>отечественная</td>\n",
       "      <td>18</td>\n",
       "      <td>NaN</td>\n",
       "      <td>NaN</td>\n",
       "      <td>NaN</td>\n",
       "      <td>NaN</td>\n",
       "      <td>NaN</td>\n",
       "      <td>NaN</td>\n",
       "      <td>NaN</td>\n",
       "      <td>NaN</td>\n",
       "      <td>NaN</td>\n",
       "    </tr>\n",
       "    <tr>\n",
       "      <th>4</th>\n",
       "      <td>Островский А.Н.</td>\n",
       "      <td>Бедность не порок</td>\n",
       "      <td>NaN</td>\n",
       "      <td>19 ИРЛ 2 ст</td>\n",
       "      <td>1</td>\n",
       "      <td>1919</td>\n",
       "      <td>8</td>\n",
       "      <td>NaN</td>\n",
       "      <td>отечественная</td>\n",
       "      <td>19</td>\n",
       "      <td>NaN</td>\n",
       "      <td>NaN</td>\n",
       "      <td>NaN</td>\n",
       "      <td>NaN</td>\n",
       "      <td>NaN</td>\n",
       "      <td>NaN</td>\n",
       "      <td>NaN</td>\n",
       "      <td>NaN</td>\n",
       "      <td>NaN</td>\n",
       "    </tr>\n",
       "    <tr>\n",
       "      <th>...</th>\n",
       "      <td>...</td>\n",
       "      <td>...</td>\n",
       "      <td>...</td>\n",
       "      <td>...</td>\n",
       "      <td>...</td>\n",
       "      <td>...</td>\n",
       "      <td>...</td>\n",
       "      <td>...</td>\n",
       "      <td>...</td>\n",
       "      <td>...</td>\n",
       "      <td>...</td>\n",
       "      <td>...</td>\n",
       "      <td>...</td>\n",
       "      <td>...</td>\n",
       "      <td>...</td>\n",
       "      <td>...</td>\n",
       "      <td>...</td>\n",
       "      <td>...</td>\n",
       "      <td>...</td>\n",
       "    </tr>\n",
       "    <tr>\n",
       "      <th>10167</th>\n",
       "      <td>Чичибабин Б.А.</td>\n",
       "      <td>NaN</td>\n",
       "      <td>NaN</td>\n",
       "      <td>91 ПСОУЗ</td>\n",
       "      <td>50</td>\n",
       "      <td>1991</td>\n",
       "      <td>11</td>\n",
       "      <td>*</td>\n",
       "      <td>отечественная</td>\n",
       "      <td>20</td>\n",
       "      <td>NaN</td>\n",
       "      <td>NaN</td>\n",
       "      <td>NaN</td>\n",
       "      <td>NaN</td>\n",
       "      <td>NaN</td>\n",
       "      <td>NaN</td>\n",
       "      <td>NaN</td>\n",
       "      <td>NaN</td>\n",
       "      <td>NaN</td>\n",
       "    </tr>\n",
       "    <tr>\n",
       "      <th>10168</th>\n",
       "      <td>Чухонцев О.Г.</td>\n",
       "      <td>NaN</td>\n",
       "      <td>NaN</td>\n",
       "      <td>91 ПСОУЗ</td>\n",
       "      <td>50</td>\n",
       "      <td>1991</td>\n",
       "      <td>11</td>\n",
       "      <td>*</td>\n",
       "      <td>отечественная</td>\n",
       "      <td>20</td>\n",
       "      <td>NaN</td>\n",
       "      <td>NaN</td>\n",
       "      <td>NaN</td>\n",
       "      <td>NaN</td>\n",
       "      <td>NaN</td>\n",
       "      <td>NaN</td>\n",
       "      <td>NaN</td>\n",
       "      <td>NaN</td>\n",
       "      <td>NaN</td>\n",
       "    </tr>\n",
       "    <tr>\n",
       "      <th>10169</th>\n",
       "      <td>Шаламов В.Т.</td>\n",
       "      <td>NaN</td>\n",
       "      <td>NaN</td>\n",
       "      <td>91 ПСОУЗ</td>\n",
       "      <td>50</td>\n",
       "      <td>1991</td>\n",
       "      <td>11</td>\n",
       "      <td>*</td>\n",
       "      <td>отечественная</td>\n",
       "      <td>20</td>\n",
       "      <td>NaN</td>\n",
       "      <td>NaN</td>\n",
       "      <td>NaN</td>\n",
       "      <td>NaN</td>\n",
       "      <td>NaN</td>\n",
       "      <td>NaN</td>\n",
       "      <td>NaN</td>\n",
       "      <td>NaN</td>\n",
       "      <td>NaN</td>\n",
       "    </tr>\n",
       "    <tr>\n",
       "      <th>10170</th>\n",
       "      <td>Шукшин В.М.</td>\n",
       "      <td>NaN</td>\n",
       "      <td>NaN</td>\n",
       "      <td>91 ПСОУЗ</td>\n",
       "      <td>50</td>\n",
       "      <td>1991</td>\n",
       "      <td>11</td>\n",
       "      <td>*</td>\n",
       "      <td>отечественная</td>\n",
       "      <td>20</td>\n",
       "      <td>NaN</td>\n",
       "      <td>NaN</td>\n",
       "      <td>NaN</td>\n",
       "      <td>NaN</td>\n",
       "      <td>NaN</td>\n",
       "      <td>NaN</td>\n",
       "      <td>NaN</td>\n",
       "      <td>NaN</td>\n",
       "      <td>NaN</td>\n",
       "    </tr>\n",
       "    <tr>\n",
       "      <th>10171</th>\n",
       "      <td>Яновский Ю.И.</td>\n",
       "      <td>NaN</td>\n",
       "      <td>NaN</td>\n",
       "      <td>91 ПСОУЗ</td>\n",
       "      <td>50</td>\n",
       "      <td>1991</td>\n",
       "      <td>11</td>\n",
       "      <td>*</td>\n",
       "      <td>отечественная</td>\n",
       "      <td>20</td>\n",
       "      <td>NaN</td>\n",
       "      <td>NaN</td>\n",
       "      <td>NaN</td>\n",
       "      <td>NaN</td>\n",
       "      <td>NaN</td>\n",
       "      <td>NaN</td>\n",
       "      <td>NaN</td>\n",
       "      <td>NaN</td>\n",
       "      <td>NaN</td>\n",
       "    </tr>\n",
       "  </tbody>\n",
       "</table>\n",
       "<p>8278 rows × 19 columns</p>\n",
       "</div>"
      ],
      "text/plain": [
       "                author              title comment   curriculum  id  year  \\\n",
       "0          Пушкин А.С.  …Вновь я посетил…     NaN  39 ПСШ 8-10   9  1939   \n",
       "1          Крылов И.А.              Басни     NaN  19 ИРЛ 2 ст   1  1919   \n",
       "2          Пушкин А.С.  …Вновь я посетил…     NaN  40 ПСШ 8-10  10  1940   \n",
       "3        Карамзин Н.М.        Бедная Лиза     NaN  19 ИРЛ 2 ст   1  1919   \n",
       "4      Островский А.Н.  Бедность не порок     NaN  19 ИРЛ 2 ст   1  1919   \n",
       "...                ...                ...     ...          ...  ..   ...   \n",
       "10167   Чичибабин Б.А.                NaN     NaN     91 ПСОУЗ  50  1991   \n",
       "10168    Чухонцев О.Г.                NaN     NaN     91 ПСОУЗ  50  1991   \n",
       "10169     Шаламов В.Т.                NaN     NaN     91 ПСОУЗ  50  1991   \n",
       "10170      Шукшин В.М.                NaN     NaN     91 ПСОУЗ  50  1991   \n",
       "10171    Яновский Ю.И.                NaN     NaN     91 ПСОУЗ  50  1991   \n",
       "\n",
       "      grade priority           type century  Unnamed: 10 Unnamed: 11  \\\n",
       "0         8        *  отечественная      19          NaN         NaN   \n",
       "1         7      NaN  отечественная   18–19          NaN         NaN   \n",
       "2         8        *  отечественная      19          NaN         NaN   \n",
       "3         7      NaN  отечественная      18          NaN         NaN   \n",
       "4         8      NaN  отечественная      19          NaN         NaN   \n",
       "...     ...      ...            ...     ...          ...         ...   \n",
       "10167    11        *  отечественная      20          NaN         NaN   \n",
       "10168    11        *  отечественная      20          NaN         NaN   \n",
       "10169    11        *  отечественная      20          NaN         NaN   \n",
       "10170    11        *  отечественная      20          NaN         NaN   \n",
       "10171    11        *  отечественная      20          NaN         NaN   \n",
       "\n",
       "      Unnamed: 12 Unnamed: 13 Unnamed: 14 Unnamed: 15 Unnamed: 16 Unnamed: 17  \\\n",
       "0             NaN         NaN         NaN         NaN         NaN         NaN   \n",
       "1             NaN         NaN         NaN         NaN         NaN         NaN   \n",
       "2             NaN         NaN         NaN         NaN         NaN         NaN   \n",
       "3             NaN         NaN         NaN         NaN         NaN         NaN   \n",
       "4             NaN         NaN         NaN         NaN         NaN         NaN   \n",
       "...           ...         ...         ...         ...         ...         ...   \n",
       "10167         NaN         NaN         NaN         NaN         NaN         NaN   \n",
       "10168         NaN         NaN         NaN         NaN         NaN         NaN   \n",
       "10169         NaN         NaN         NaN         NaN         NaN         NaN   \n",
       "10170         NaN         NaN         NaN         NaN         NaN         NaN   \n",
       "10171         NaN         NaN         NaN         NaN         NaN         NaN   \n",
       "\n",
       "      Unnamed: 18  \n",
       "0             NaN  \n",
       "1             NaN  \n",
       "2             NaN  \n",
       "3             NaN  \n",
       "4             NaN  \n",
       "...           ...  \n",
       "10167         NaN  \n",
       "10168         NaN  \n",
       "10169         NaN  \n",
       "10170         NaN  \n",
       "10171         NaN  \n",
       "\n",
       "[8278 rows x 19 columns]"
      ]
     },
     "execution_count": 6,
     "metadata": {},
     "output_type": "execute_result"
    }
   ],
   "source": [
    "df_soviet_hyp_2.dropna(subset=['year'], inplace=True)\n",
    "df_soviet_hyp_2['year'] = df_soviet_hyp_2['year'].astype(str)\n",
    "df_soviet_hyp_2['year'] = df_soviet_hyp_2['year'].str.split('-').str[0]\n",
    "df_soviet_hyp_2['year'] = df_soviet_hyp_2['year'].str.split('.').str[0]\n",
    "df_soviet_hyp_2['year'] = df_soviet_hyp_2['year'].astype(int)\n",
    "df_soviet_hyp_2"
   ]
  },
  {
   "cell_type": "code",
   "execution_count": 7,
   "metadata": {},
   "outputs": [],
   "source": [
    "def move_older_year_to_contain_program(year, min_year, column1, unique_pairs_older, df_older, df_program): #чтобы откатить год обратно до того момента, когда были данные по программе\n",
    "    while len(unique_pairs_older[column1]) == 0 and year > min_year: \n",
    "        year-=1\n",
    "        df_older = df_program[((df_program['year']) == year)]\n",
    "        unique_pairs_older = df_older[['author', 'title']].drop_duplicates().dropna(subset=column1)\n",
    "    return unique_pairs_older\n",
    "\n",
    "def count_coinciding(unique_pairs_newer, unique_pairs_older, column1, column2):\n",
    "    count = 0\n",
    "    for index1, row1 in unique_pairs_newer.iterrows():\n",
    "        for index2, row2 in unique_pairs_older.iterrows(): \n",
    "            if row1[column1] == row2[column1] and type(row1[column1])==str:\n",
    "                    count += 1\n",
    "                    break\n",
    "    return count\n",
    "\n",
    "\n",
    "def save_result(total_entries_1, total_entries_2, coinciding_count, year):\n",
    "    if total_entries_2 > 0 and total_entries_1 > 0: \n",
    "            percentage_coinciding = (coinciding_count / total_entries_2) * 100\n",
    "            print(year + 1, \"--\", percentage_coinciding)\n",
    "    elif total_entries_2 == 0:\n",
    "            print(year + 1, \"--\", \"no data\")"
   ]
  },
  {
   "cell_type": "code",
   "execution_count": 8,
   "metadata": {},
   "outputs": [],
   "source": [
    "def count_and_display_coinciding_for_df(min_year, max_year, df_program, column1, column2):\n",
    "        # column1 = 'author'\n",
    "        for year in range(min_year, max_year+1): \n",
    "                df_older = df_program[((df_program['year']) == year)] \n",
    "                df_newer = df_program[((df_program['year']) == year+1)]\n",
    "\n",
    "                unique_pairs_older = df_older[['author', 'title']].drop_duplicates().dropna(subset=column1) #очень важно не забывать сделать dropna, иначе счёт не сходится\n",
    "                unique_pairs_newer = df_newer[['author', 'title']].drop_duplicates().dropna(subset=column1) \n",
    "                unique_pairs_older = move_older_year_to_contain_program(year, min_year, column1, unique_pairs_older, df_older, df_program)\n",
    "\n",
    "                total_entries_1 = len(unique_pairs_older[column1])\n",
    "                total_entries_2 = len(unique_pairs_newer[column1])\n",
    "\n",
    "                coinciding_count = count_coinciding(unique_pairs_newer, unique_pairs_older, column1, column2)\n",
    "                save_result(total_entries_1, total_entries_2, coinciding_count, year)"
   ]
  },
  {
   "cell_type": "code",
   "execution_count": null,
   "metadata": {},
   "outputs": [],
   "source": [
    "count_and_display_coinciding_for_df(1919, 1991, df_soviet_hyp_2, 'author', '')"
   ]
  },
  {
   "cell_type": "code",
   "execution_count": null,
   "metadata": {},
   "outputs": [],
   "source": [
    "count_and_display_coinciding_for_df(1998, 2023, df_contemporary_hyp_2, 'author', '')"
   ]
  },
  {
   "cell_type": "markdown",
   "metadata": {},
   "source": [
    "Теперь давайте посчитаем гипотезу 2.1: как меняются произведения в программе от года к году?"
   ]
  },
  {
   "cell_type": "code",
   "execution_count": 9,
   "metadata": {},
   "outputs": [],
   "source": [
    "def count_coinciding(unique_pairs_newer, unique_pairs_older, column1, column2): #здесь сравниваем и автора, и название, чтобы \"лирика\" Пушкина не равнялась \"лирике\" Лермонтова\n",
    "    count = 0\n",
    "    not_found_last_year = [] #for debugging\n",
    "    for index1, row1 in unique_pairs_newer.iterrows():\n",
    "        f = 0\n",
    "        for index2, row2 in unique_pairs_older.iterrows(): \n",
    "            if row1[column1] == row2[column1] and (row1[column2] == row2[column2] or (type(row1[column2])==float and type(row1[column2])==float)) and type(row1[column1])==str: #type==float - это на случай, когда вместо автора NA, типа слова о полку игореве, тк NA != NA \n",
    "                    count += 1\n",
    "                    f = 1\n",
    "                    break\n",
    "        if f == 0:\n",
    "             not_found_last_year.append((row1['title'], row1['author']))\n",
    "    print(\"not found last year\", not_found_last_year) #year\n",
    "    return count\n"
   ]
  },
  {
   "cell_type": "code",
   "execution_count": null,
   "metadata": {},
   "outputs": [],
   "source": [
    "count_and_display_coinciding_for_df(1919, 1991, df_soviet_hyp_2, 'title', 'author')"
   ]
  },
  {
   "cell_type": "code",
   "execution_count": 21,
   "metadata": {},
   "outputs": [
    {
     "name": "stdout",
     "output_type": "stream",
     "text": [
      "not found last year [('1 января 1965 года', 'Бродский И.А.'), ('Август', 'Пастернак Б.Л.'), ('Адище города', 'Маяковский В.В.'), ('Айя-София', 'Мандельштам О.Э.'), ('Аленушка', 'Бунин И.А.'), ('Андрей Рублев', 'Гумилев Н.С.'), ('Анна Снегина', 'Есенин С.А.'), ('Ассаргадон', 'Брюсов В.Я.'), ('Безглагольность', 'Бальмонт К.Д.'), ('Блажен незлобивый поэт…', 'Некрасов Н.А.'), ('Бобэоби пелись губы…', 'Хлебников В.'), ('Будем как солнце!..', 'Бальмонт К.Д.'), ('Быть знаменитым некрасиво…', 'Пастернак Б.Л.'), ('В деревне Бог живет не по углам…', 'Бродский И.А.'), ('В полном разгаре страда деревенская…', 'Некрасов Н.А.'), ('В тот день, когда окончилась война…', 'Твардовский А.Т.'), ('Вам!', 'Маяковский В.В.'), ('Весенние воды', 'Тютчев Ф.И.'), ('Ветер принес издалека…', 'Блок А.А.'), ('Вечер', 'Бунин И.А.'), ('Вечером', 'Ахматова А.А.'), ('Внимая ужасам войны…', 'Некрасов Н.А.'), ('Во весь голос', 'Маяковский В.В.'), ('Воротишься на родину. Ну что ж…', 'Бродский И.А.'), ('Все повторяю первый стих…', 'Цветаева М.И.'), ('Все расхищено, предано, продано…', 'Ахматова А.А.'), ('Встану я в утро туманное…', 'Блок А.А.'), ('Генералам двенадцатого года', 'Цветаева М.И.'), ('Грешить бесстыдно, непробудно…', 'Блок А.А.'), ('Грядущие гунны', 'Брюсов В.Я.'), ('Да! Теперь решено. Без возврата…', 'Есенин С.А.'), ('Давай ронять слова…', 'Пастернак Б.Л.'), ('Двух станов не боец, но только гость случайный…', 'Толстой А.К.'), ('Девушка пела в церковном хоре…', 'Блок А.А.'), ('День и ночь', 'Тютчев Ф.И.'), ('До свиданья, друг мой, до свиданья!..', 'Есенин С.А.'), ('Домой!', 'Маяковский В.В.'), ('Дробится рваный цоколь монумента…', 'Твардовский А.Т.'), ('Дурман', 'Бунин И.А.'), ('Единственные дни', 'Пастернак Б.Л.'), ('Есть что-то позорное в мощи природы…', 'Брюсов В.Я.'), ('Жираф', 'Гумилев Н.С.'), ('Заблудившийся трамвай', 'Гумилев Н.С.'), ('Заклятие смехом', 'Хлебников В.'), ('И цветы, и шмели, и трава, и колосья…', 'Бунин И.А.'), ('Идешь, на меня похожий…', 'Цветаева М.И.'), ('Из логова змиева', 'Гумилев Н.С.'), ('Как беден наш язык! — Хочу и не могу…', 'Фет А.А.'), ('Каменщик', 'Брюсов В.Я.'), ('Камыши', 'Бальмонт К.Д.'), ('Капитаны', 'Гумилев Н.С.'), ('Клен ты мой опавший…', 'Есенин С.А.'), ('Когда Вы стоите на моем пути…', 'Блок А.А.'), ('Когда из мрака заблужденья…', 'Некрасов Н.А.'), ('Когда умирают кони — дышат…', 'Хлебников В.'), ('Конец прекрасной эпохи', 'Бродский И.А.'), ('Край ты мой, родимый край…', 'Толстой А.К.'), ('Красавица моя, вся стать…', 'Пастернак Б.Л.'), ('Кузнечик', 'Хлебников В.'), ('Левый марш', 'Маяковский В.В.'), ('Лишив меня морей, разбега и разлета…', 'Мандельштам О.Э.'), ('Любимая, — жуть! Когда любит поэт…', 'Пастернак Б.Л.'), ('Марбург', 'Пастернак Б.Л.'), ('Меня, во мраке и в пыли…', 'Толстой А.К.'), ('Мне мало надо!..', 'Хлебников В.'), ('Мне нравится, что Вы больны не мной…', 'Цветаева М.И.'), ('Мой Пушкин', 'Цветаева М.И.'), ('Мои читатели', 'Гумилев Н.С.'), ('Муза («Когда я ночью жду ее прихода…»)', 'Ахматова А.А.'), ('Мы встречались с тобой на закате…', 'Блок А.А.'), ('Мы желаем звездам тыкать…', 'Хлебников В.'), ('Мы живем, под собою не чуя страны…', 'Мандельштам О.Э.'), ('На поле Куликовом', 'Блок А.А.'), ('На смерть Жукова', 'Бродский И.А.'), ('На стоге сена ночью южной…', 'Фет А.А.'), ('На столетие Анны Ахматовой', 'Бродский И.А.'), ('Накануне светлого праздника', 'Некрасов Н.А.'), ('Неколебимой истине…', 'Брюсов В.Я.'), ('Несжатая полоса', 'Некрасов Н.А.'), ('Нет, никогда ничей я не был современник…', 'Мандельштам О.Э.'), ('Нивы сжаты, рощи голы…', 'Есенин С.А.'), ('Нобелевская лекция', 'Бродский И.А.'), ('Носорог', 'Гумилев Н.С.'), ('О сущем', 'Твардовский А.Т.'), ('О, знал бы я, что так бывает…', 'Пастернак Б.Л.'), ('О, слезы на глазах…', 'Цветаева М.И.'), ('Ода революции', 'Маяковский В.В.'), ('Она пришла с мороза…', 'Блок А.А.'), ('Осенний крик ястреба', 'Бродский И.А.'), ('Осенняя воля', 'Блок А.А.'), ('Отговорила роща золотая…', 'Есенин С.А.'), ('Откуда такая нежность?..', 'Цветаева М.И.'), ('Памяти Добролюбова', 'Некрасов Н.А.'), ('Песнь о собаке', 'Есенин С.А.'), ('Петроградское небо мутилось дождем…', 'Блок А.А.'), ('Письмо к женщине', 'Есенин С.А.'), ('Пляски осенние', 'Блок А.А.'), ('Попытка ревности', 'Цветаева М.И.'), ('Поэзия', 'Пастернак Б.Л.'), ('Поэма без героя', 'Ахматова А.А.'), ('Поэты', 'Блок А.А.'), ('Предопределение', 'Тютчев Ф.И.'), ('Предчувствую Тебя. Года проходят мимо…', 'Блок А.А.'), ('Пригвождена к позорному столбу…', 'Цветаева М.И.'), ('Про это', 'Маяковский В.В.'), ('Произведения по выбору', 'Анненский И.Ф.'), ('Произведения по выбору', 'Ахматова А.А.'), ('Произведения по выбору', 'Бальмонт К.Д.'), ('Произведения по выбору', 'Белый А.'), ('Произведения по выбору', 'Блок А.А.'), ('Произведения по выбору', 'Брюсов В.Я.'), ('Произведения по выбору', 'Бунин И.А.'), ('Произведения по выбору', 'Волошин М.А.'), ('Произведения по выбору', 'Гумилев Н.С.'), ('Произведения по выбору', 'Державин Г.Р.'), ('Произведения по выбору', 'др.'), ('Произведения по выбору', 'Есенин С.А.'), ('Произведения по выбору', 'Жуковский В.А.'), ('Произведения по выбору', 'Клюев Н.А.'), ('Произведения по выбору', 'Крылов И.А.'), ('Произведения по выбору', 'Кушнер А.С.'), ('Произведения по выбору', 'Левитанский Ю.Д.'), ('Произведения по выбору', 'Лермонтов М.Ю.'), ('Произведения по выбору', 'Ломоносов М.В.'), ('Произведения по выбору', 'Мандельштам О.Э.'), ('Произведения по выбору', 'Маяковский В.В.'), ('Произведения по выбору', 'Набоков В.В.'), ('Произведения по выбору', 'Некрасов Вс.Н.'), ('Произведения по выбору', 'Некрасов Н.А.'), ('Произведения по выбору', 'Пастернак Б.Л.'), ('Произведения по выбору', 'Пушкин А.С.'), ('Произведения по выбору', 'Сапгир Г.А.'), ('Произведения по выбору', 'Северянин И.'), ('Произведения по выбору', 'Сологуб Ф.К.'), ('Произведения по выбору', 'Твардовский А.Т.'), ('Произведения по выбору', 'Толстой А.К.'), ('Произведения по выбору', 'Тютчев Ф.И.'), ('Произведения по выбору', 'Фет А.А.'), ('Произведения по выбору', 'Хлебников В.'), ('Произведения по выбору', 'Ходасевич В.Ф.'), ('Произведения по выбору', 'Цветаева М.И.'), ('Произведения по выбору', 'Чухонцев О.Г.'), ('Пророк', 'Некрасов Н.А.'), ('Пушкинскому Дому', 'Блок А.А.'), ('Пятистопные ямбы', 'Гумилев Н.С.'), ('Разговор с фининспектором о поэзии', 'Маяковский В.В.'), ('Размышления у парадного подъезда', 'Некрасов Н.А.'), ('Расстояние: версты, мили…', 'Цветаева М.И.'), ('Родина', 'Некрасов Н.А.'), ('Родной язык', 'Брюсов В.Я.'), ('Рожденные в года глухие…', 'Блок А.А.'), ('Рождественская звезда', 'Бродский И.А.'), ('Рождественский романс', 'Бродский И.А.'), ('Русские женщины', 'Некрасов Н.А.'), ('Русь моя, жизнь моя, вместе ль нам маяться…', 'Блок А.А.'), ('Сегодня снова я пойду…', 'Хлебников В.'), ('Сергею Есенину', 'Маяковский В.В.'), ('Сероглазый король', 'Ахматова А.А.'), ('Сестра моя — жизнь и сегодня в разливе…', 'Пастернак Б.Л.'), ('Скифы', 'Блок А.А.'), ('Слова-хамелеоны', 'Бальмонт К.Д.'), ('Слово', 'Гумилев Н.С.'), ('Слоненок', 'Гумилев Н.С.'), ('Смуглый отрок бродил по аллеям…', 'Ахматова А.А.'), ('Снегурочка', 'Островский А.Н.'), ('Собаке Качалова', 'Есенин С.А.'), ('Соловьиный сад', 'Блок А.А.'), ('Сорокоуст', 'Есенин С.А.'), ('Средь шумного бала, случайно…', 'Толстой А.К.'), ('Стансы («Ни страны, ни погоста…»)', 'Бродский И.А.'), ('Столетье с лишним — не вчера…', 'Пастернак Б.Л.'), ('Сумерки свободы', 'Мандельштам О.Э.'), ('Там, где жили свиристели…', 'Хлебников В.'), ('Творчество', 'Ахматова А.А.'), ('Творчество', 'Брюсов В.Я.'), ('То не Муза воды набирает в рот…', 'Бродский И.А.'), ('Товарищу Нетте, пароходу и человеку', 'Маяковский В.В.'), ('У зверя есть гнездо, у птицы есть нора…', 'Бунин И.А.'), ('У камина', 'Гумилев Н.С.'), ('Уж сколько их упало в эту бездну…', 'Цветаева М.И.'), ('Уже второй…', 'Маяковский В.В.'), ('Фонтан', 'Тютчев Ф.И.'), ('Челн томленья', 'Бальмонт К.Д.'), ('Черный человек', 'Есенин С.А.'), ('Шестое чувство', 'Гумилев Н.С.'), ('Широк и желт вечерний свет…', 'Ахматова А.А.'), ('Эти бедные селенья…', 'Тютчев Ф.И.'), ('Юному поэту', 'Брюсов В.Я.'), ('Я', 'Брюсов В.Я.'), ('Я — Гамлет. Холодеет кровь…', 'Блок А.А.'), ('Я — изысканность русской медлительной речи…', 'Бальмонт К.Д.'), ('Я входил вместо дикого зверя в клетку…', 'Бродский И.А.'), ('Я и вы', 'Гумилев Н.С.'), ('Я к губам подношу эту зелень…', 'Мандельштам О.Э.'), ('Я мечтою ловил уходящие тени…', 'Бальмонт К.Д.'), ('Я научилась просто, мудро жить…', 'Ахматова А.А.'), ('Я не слыхал рассказов Оссиана…', 'Мандельштам О.Э.'), ('Я обманывать себя не стану…', 'Есенин С.А.'), ('Я обнял эти плечи и взглянул…', 'Бродский И.А.'), ('Я отрок, зажигаю свечи…', 'Блок А.А.'), ('Я последний поэт деревни…', 'Есенин С.А.'), ('Я пригвожден к трактирной стойке…', 'Блок А.А.'), ('Я пришел к тебе с приветом…', 'Фет А.А.'), ('Я тебе ничего не скажу…', 'Фет А.А.'), ('2017', 'Славникова О.А.'), ('А зори здесь тихие', 'Васильев Б.Л.'), ('Азазель', 'Акунин Б.'), ('Анна Каренина', 'Толстой Л.Н.'), ('Антоновские яблоки', 'Бунин И.А.'), ('Апельсины из Марокко', 'Аксенов В.П.'), ('Архипелаг ГУЛаг', 'Солженицын А.И.'), ('Бег', 'Булгаков М.А.'), ('Белый пароход', 'Айтматов Ч.Т.'), ('Бесприданница', 'Островский А.Н.'), ('Братья и сестры', 'Абрамов Ф.А.'), ('Будь здоров, школяр!', 'Окуджава Б.Ш.'), ('В окопах Сталинграда', 'Некрасов В.П.'), ('В прекрасном и яростном мире («Машинист Мальцев»)', 'Платонов А.П.'), ('В списках не значился', 'Васильев Б.Л.'), ('Валентин и Валентина', 'Рощин М.М.'), ('Вам и не снилось', 'Щербакова Г.Н.'), ('Васька Денисов, похититель свиней', 'Шаламов В.Т.'), ('Верный Руслан', 'Владимов Г.Н.'), ('Верую', 'Шукшин В.М.'), ('Веселый солдат', 'Астафьев В.П.'), ('Весна в Фиальте', 'Набоков В.В.'), ('Вешние воды', 'Тургенев И.С.'), ('Во сне ты горько плакал', 'Казаков Ю.П.'), ('Возвращение', 'Платонов А.П.'), ('Выходной день', 'Шаламов В.Т.'), ('Гамлет и Дон Кихот', 'Тургенев И.С.'), ('Гамлет Щигровского уезда', 'Тургенев И.С.'), ('Генерал и его армия', 'Владимов Г.Н.'), ('Гигиена', 'Петрушевская Л.С.'), ('Гнездо глухаря', 'Розов В.С.'), ('Господа Головлевы', 'Салтыков-Щедрин М.Е.'), ('Дворянское гнездо', 'Тургенев И.С.'), ('Дело Артамоновых', 'Горький М.'), ('Деньги для Марии', 'Распутин В.Г.'), ('Деревня', 'Бунин И.А.'), ('Детство Чика', 'Искандер Ф.А.'), ('Дни Турбиных', 'Булгаков М.А.'), ('Донские рассказы', 'Шолохов М.А.'), ('Доходное место', 'Островский А.Н.'), ('Душечка', 'Чехов А.П.'), ('Дядя Ваня', 'Чехов А.П.'), ('Женитьба Бальзаминова', 'Островский А.Н.'), ('Жестокие игры', 'Арбузов А.Н.'), ('Живи и помни', 'Распутин В.Г.'), ('Живой труп', 'Толстой Л.Н.'), ('Жизнь и необычайные приключения солдата Ивана Чонкина', 'Войнович В.Н.'), ('Жизнь и судьба', 'Гроссман В.С.'), ('Жизнь насекомых', 'Пелевин В.О.'), ('Жить не по лжи', 'Солженицын А.И.'), ('Забуксовал', 'Шукшин В.М.'), ('Завтра была война', 'Васильев Б.Л.'), ('Записки из подполья', 'Достоевский Ф.М.'), ('Записки юного врача', 'Булгаков М.А.'), ('Заповедник', 'Довлатов С.Д.'), ('Затворник и Шестипалый', 'Пелевин В.О.'), ('Затоваренная бочкотара', 'Аксенов В.П.'), ('Захар Воробьев', 'Бунин И.А.'), ('Знак беды', 'Быков В.В.'), ('Зойкина квартира', 'Булгаков М.А.'), ('Золото бунта', 'Иванов А.В.'), ('Зона', 'Довлатов С.Д.'), ('Идиот', 'Достоевский Ф.М.'), ('Иоанн Рыдалец', 'Бунин И.А.'), ('Кабала святош («Мольер»)', 'Булгаков М.А.'), ('Кавказский пленный', 'Маканин В.С.'), ('Карамора', 'Горький М.'), ('Котлован', 'Платонов А.П.'), ('Красный крест', 'Шаламов В.Т.'), ('Крейцерова соната', 'Толстой Л.Н.'), ('Крепкий мужик', 'Шукшин В.М.'), ('Кролики и удавы', 'Искандер Ф.А.'), ('Крошки Цахес', 'Чижова Е.С.'), ('Крыжовник', 'Чехов А.П.'), ('Кысь', 'Толстая Т.Н.'), ('Лад', 'Белов В.И.'), ('Лапти', 'Бунин И.А.'), ('Левша', 'Лесков Н.С.'), ('Легкое дыхание', 'Бунин И.А.'), ('Леди Макбет Мценского уезда', 'Лесков Н.С.'), ('Любовь', 'Чехов А.П.'), ('Макар Чудра', 'Горький М.'), ('Мать', 'Горький М.'), ('Миссия русской эмиграции', 'Бунин И.А.'), ('Митина любовь', 'Бунин И.А.'), ('Москва 2042', 'Войнович В.Н.'), ('Мусорный ветер', 'Платонов А.П.'), ('На всякого мудреца довольно простоты', 'Островский А.Н.'), ('На золотом крыльце сидели', 'Толстая Т.Н.'), ('На представку', 'Шаламов В.Т.'), ('На солнечной стороне улицы', 'Рубина Д.И.'), ('Назначение', 'Володин А.М.'), ('Накануне', 'Тургенев И.С.'), ('Неточка Незванова', 'Достоевский Ф.М.'), ('Новые робинзоны', 'Петрушевская Л.С.'), ('О любви', 'Чехов А.П.'), ('Обелиск', 'Быков В.В.'), ('Облако, озеро, башня', 'Набоков В.В.'), ('Облачный полк', 'Веркин Э.Н.'), ('Обмен', 'Трифонов Ю.В.'), ('Обрыв', 'Гончаров И.А.'), ('Обыкновенная история', 'Гончаров И.А.'), ('Очарованный странник', 'Лесков Н.С.'), ('Пара гнедых', 'Тендряков В.Ф.'), ('Пастух и пастушка', 'Астафьев В.П.'), ('Пегий пес, бегущий краем моря', 'Айтматов Ч.Т.'), ('Первая любовь', 'Тургенев И.С.'), ('Пиночет', 'Екимов Б.П.'), ('Поднятая целина', 'Шолохов М.А.'), ('Подросток', 'Достоевский Ф.М.'), ('Попрыгунья', 'Чехов А.П.'), ('Последний бой майора Пугачева', 'Шаламов В.Т.'), ('Поэт и муза', 'Толстая Т.Н.'), ('Привычное дело', 'Белов В.И.'), ('Произведения по выбору', 'Улицкая Л.Е.'), ('Прощай, Гюльсары', 'Айтматов Ч.Т.'), ('Прощание с Матерой', 'Распутин В.Г.'), ('Пхенц', 'Синявский А.Д.'), ('Раковый корпус', 'Солженицын А.И.'), ('Река Потудань', 'Платонов А.П.'), ('Рудин', 'Тургенев И.С.'), ('Сандро из Чегема', 'Искандер Ф.А.'), ('Санькя', 'Прилепин З.'), ('Сапожки', 'Шукшин В.М.'), ('Сашка', 'Кондратьев В.Л.'), ('Свой круг', 'Петрушевская Л.С.'), ('Сгущенное молоко', 'Шаламов В.Т.'), ('Севастопольские рассказы', 'Толстой Л.Н.'), ('Серафим', 'Толстая Т.Н.'), ('Серафим', 'Шаламов В.Т.'), ('Сердце пармы', 'Иванов А.В.'), ('Сестры Черепановы', 'Славникова О.А.'), ('Сказки для детей изрядного возраста', 'Салтыков-Щедрин М.Е.'), ('Скучная история', 'Чехов А.П.'), ('Смерть Ивана Ильича', 'Толстой Л.Н.'), ('Собачье сердце', 'Булгаков М.А.'), ('Сокровенный человек', 'Платонов А.П.'), ('Сон смешного человека', 'Достоевский Ф.М.'), ('Сонечка', 'Улицкая Л.Е.'), ('Сотников', 'Быков В.В.'), ('Спать хочется', 'Чехов А.П.'), ('Старший сын', 'Вампилов А.В.'), ('Суходол', 'Бунин И.А.'), ('Танцующий Шива', 'Шукшин В.М.'), ('Татарский мулла и чистый воздух', 'Шаламов В.Т.'), ('Темные аллеи', 'Бунин И.А.'), ('Тифозный карантин', 'Шаламов В.Т.'), ('Три сестры', 'Чехов А.П.'), ('Трудно быть богом', 'Стругацкие А.Н.и Б.Н.'), ('Тупейный художник', 'Лесков Н.С.'), ('Улитка на склоне', 'Стругацкие А.Н.и Б.Н.'), ('Уроки Армении', 'Битов А.Г.'), ('Усвятские шлемоносцы', 'Носов Е.И.'), ('Утиная охота', 'Вампилов А.В.'), ('Факультет ненужных вещей', 'Домбровский Ю.О.'), ('Фома Гордеев', 'Горький М.'), ('Фрегат «Паллада»', 'Гончаров И.А.'), ('Хаджи-Мурат', 'Толстой Л.Н.'), ('Хлеб для собаки', 'Тендряков В.Ф.'), ('Царь-рыба', 'Астафьев В.П.'), ('Чайка', 'Чехов А.П.'), ('Челкаш', 'Горький М.'), ('Человек на часах', 'Лесков Н.С.'), ('Чемодан', 'Довлатов С.Д.'), ('Шкаф', 'Пьецух В.А.'), ('Я и ты под персиковыми облаками', 'Рубина Д.И.')]\n",
      "2021 -- 42.45723172628305\n",
      "not found last year [('Арион', 'Пушкин А.С.'), ('Брожу ли я вдоль улиц шумных…', 'Пушкин А.С.'), ('Была пора: наш праздник молодой…', 'Пушкин А.С.'), ('В начале жизни школу помню я…', 'Пушкин А.С.'), ('Вечернее размышление о Божием Величестве при случае великого северного сияния', 'Ломоносов М.В.'), ('Водопад', 'Державин Г.Р.'), ('Вольность', 'Пушкин А.С.'), ('Воспоминания в Царском Селе', 'Пушкин А.С.'), ('Зеленый Шум', 'Некрасов Н.А.'), ('Зимний вечер', 'Пушкин А.С.'), ('Из Гете («Горные вершины…»)', 'Лермонтов М.Ю.'), ('Кавказ', 'Пушкин А.С.'), ('Кавказский пленник', 'Пушкин А.С.'), ('Крестьянские дети', 'Некрасов Н.А.'), ('Лебедь, Щука и Рак', 'Крылов И.А.'), ('Молитва («Я, Матерь Божия, ныне с молитвою…»)', 'Лермонтов М.Ю.'), ('Монастырь на Казбеке', 'Пушкин А.С.'), ('Обвал', 'Пушкин А.С.'), ('Осень во время осады Очакова', 'Державин Г.Р.'), ('Перед грозой', 'Блок А.А.'), ('Пир Петра Первого', 'Пушкин А.С.'), ('Полтава', 'Пушкин А.С.'), ('После грозы', 'Блок А.А.'), ('Поэту', 'Пушкин А.С.'), ('Произведения по выбору', 'Баратынский Е.А.'), ('Произведения по выбору', 'Батюшков К.Н.'), ('Произведения по выбору', 'Глазков Н.И.'), ('Произведения по выбору', 'Григорьев О.Е.'), ('Произведения по выбору', 'Давыдов Д.В.'), ('Произведения по выбору', 'Дельвиг А.А.'), ('Произведения по выбору', 'Кольцов А.В.'), ('Произведения по выбору', 'Майков А.Н.'), ('Произведения по выбору', 'Мориц Ю.П.'), ('Произведения по выбору', 'Олейников Н.М.'), ('Произведения по выбору', 'Полонский Я.П.'), ('Произведения по выбору', 'Хармс Д.'), ('Произведения по выбору', 'Языков Н.М.'), ('Редеет облаков летучая гряда…', 'Пушкин А.С.'), ('Руслан и Людмила', 'Пушкин А.С.'), ('Свинья под Дубом', 'Крылов И.А.'), ('Слон и Моська', 'Крылов И.А.'), ('Стансы («В надежде славы и добра…»)', 'Пушкин А.С.'), ('Стихи, сочиненные на дороге в Петергоф, когда я в 1761 году ехал просить о подписании привилегии для Академии, быв много раз прежде за тем же', 'Ломоносов М.В.'), ('Ты помнишь? В нашей бухте сонной…', 'Блок А.А.'), ('Узник', 'Лермонтов М.Ю.'), ('Утес', 'Лермонтов М.Ю.'), ('Фелица', 'Державин Г.Р.'), ('Цветок', 'Пушкин А.С.'), ('Цицерон', 'Тютчев Ф.И.'), ('Чем чаще празднует лицей…', 'Пушкин А.С.'), ('Эхо', 'Пушкин А.С.'), ('Ася', 'Тургенев И.С.'), ('Бежин луг', 'Тургенев И.С.'), ('Ванька', 'Чехов А.П.'), ('Воробей', 'Тургенев И.С.'), ('Гроза в горах', 'Солженицын А.И.'), ('Два богача', 'Тургенев И.С.'), ('Детство', 'Толстой Л.Н.'), ('Домострой', 'Сильвестр'), ('Дыхание', 'Солженицын А.И.'), ('Житие протопопа Аввакума, им самим написанное', 'Аввакум'), ('Житие Сергия Радонежского', 'Епифаний Премудрый'), ('Злоумышленник', 'Чехов А.П.'), ('Кавказский пленник', 'Толстой Л.Н.'), ('Колокол Углича', 'Солженицын А.И.'), ('Костер и муравьи', 'Солженицын А.И.'), ('Лиственница', 'Солженицын А.И.'), ('Лошадиная фамилия', 'Чехов А.П.'), ('Мастер', 'Шукшин В.М.'), ('Медведь на воеводстве', 'Салтыков-Щедрин М.Е.'), ('Муму', 'Тургенев И.С.'), ('Невский проспект', 'Гоголь Н.В.'), ('Ночь перед Рождеством', 'Гоголь Н.В.'), ('Отрочество', 'Толстой Л.Н.'), ('Певцы', 'Тургенев И.С.'), ('Повесть о Ерше Ершовиче, сыне Щетинникове', nan), ('Повесть о Петре и Февронии Муромских', 'Ермолай-Еразм'), ('Повесть о разорении Рязани Батыем', nan), ('Повесть о том, как поссорился Иван Иванович с Иваном Никифоровичем', 'Гоголь Н.В.'), ('Поучение', 'Мономах В.'), ('Произведения по выбору', 'Богомолов В.О.'), ('Произведения по выбору', 'Васильев Б.Л.'), ('Произведения по выбору', 'Голявкин В.В.'), ('Произведения по выбору', 'Коваль Ю.И.'), ('Произведения по выбору', 'Паустовский К.Г.'), ('Произведения по выбору', 'Пришвин М.М.'), ('Произведения по выбору', 'Шмелев И.С.'), ('Разговор', 'Тургенев И.С.'), ('Русский язык', 'Тургенев И.С.'), ('Старосветские помещики', 'Гоголь Н.В.'), ('Тарас Бульба', 'Гоголь Н.В.'), ('Три смерти', 'Толстой Л.Н.'), ('Холстомер', 'Толстой Л.Н.'), ('Шарик', 'Солженицын А.И.')]\n",
      "2022 -- 87.14090287277702\n"
     ]
    }
   ],
   "source": [
    "count_and_display_coinciding_for_df(2020, 2021, df_contemporary_hyp_2, 'title', 'author')"
   ]
  },
  {
   "cell_type": "code",
   "execution_count": null,
   "metadata": {},
   "outputs": [],
   "source": [
    "df_contemporary_hyp_2[df_contemporary_hyp_2['year'].isin([1998, 1999])].groupby('author')['title'].count().sort_values(ascending=False).head(20)"
   ]
  },
  {
   "cell_type": "markdown",
   "metadata": {},
   "source": [
    "Подробные выводы по гипотезе 2 можно посмотреть в документе. "
   ]
  },
  {
   "cell_type": "markdown",
   "metadata": {},
   "source": [
    "Гипотеза 4: зарубежность. "
   ]
  },
  {
   "cell_type": "code",
   "execution_count": null,
   "metadata": {},
   "outputs": [],
   "source": [
    "sheet_id = '1GwpzLCLKDT3jpnRq4no2VRBeMN8EHHpWfqXiR2qJHv0'\n",
    "gid = '607689667' #лист, на котором мы разметили зарубежность и век\n",
    "csv_url = f'https://docs.google.com/spreadsheets/d/{sheet_id}/export?format=csv&gid={gid}'\n",
    "df_soviet_hyp_4 = pd.read_csv(csv_url)\n"
   ]
  },
  {
   "cell_type": "code",
   "execution_count": null,
   "metadata": {},
   "outputs": [],
   "source": [
    "years_to_count_sov = []\n",
    "foreign_sov = []\n",
    "regional_sov = []\n",
    "for year in range(1919,1992):\n",
    "        df_year =  df_soviet_hyp_4[((df_soviet_hyp_4['year']) == year)]\n",
    "\n",
    "        # Get unique pairs of values from columns A and B\n",
    "        unique_pairs_year = df_year[['author', 'title', 'type']].drop_duplicates().dropna(subset=['type']) #непонятно, делать ли dropna, делать ли по конкретному столбцу...\n",
    "\n",
    "        # print(unique_pairs_year)\n",
    "\n",
    "        count_foreign = 0\n",
    "        count_regional = 0\n",
    "        for index1, row1 in unique_pairs_year.iterrows():\n",
    "                if row1['type'] == \"зарубежная\":\n",
    "                        count_foreign += 1\n",
    "                elif row1['type'] == \"региональная\":\n",
    "                        count_regional += 1\n",
    "\n",
    "        if len(unique_pairs_year) > 0:\n",
    "            years_to_count_sov.append(year)\n",
    "            foreign_sov.append(round(count_foreign/len(unique_pairs_year) * 100, 3))\n",
    "            regional_sov.append(round(count_regional/len(unique_pairs_year) * 100, 3))        \n",
    "            print(year, round(count_foreign/len(unique_pairs_year) * 100, 3), round(count_regional/len(unique_pairs_year) * 100, 3))\n",
    "        else:\n",
    "            print(year, \"-\")\n"
   ]
  },
  {
   "cell_type": "code",
   "execution_count": null,
   "metadata": {},
   "outputs": [],
   "source": [
    "years_to_count_sov, len(years_to_count_sov)"
   ]
  },
  {
   "cell_type": "code",
   "execution_count": null,
   "metadata": {},
   "outputs": [],
   "source": [
    "plt.bar(years_to_count_sov, foreign_sov)\n",
    "plt.show()"
   ]
  },
  {
   "cell_type": "code",
   "execution_count": null,
   "metadata": {},
   "outputs": [],
   "source": [
    "plt.bar(years_to_count_sov, regional_sov)\n",
    "plt.show()"
   ]
  },
  {
   "cell_type": "markdown",
   "metadata": {},
   "source": [
    "Теперь разберемся с современным датасетом. Здесь сложнее считать, поскольку есть группы произведений, из которых нужно пройти только определенное количество.\n",
    "number_authors — количество (от 1 до 3) авторов группы, произведения которых необходимо выбрать для изучения. Если в источнике оно неуказано, используется значение «NA».\n",
    "number_titles — количество (от 1 до 10) или диапазон (2-3) произведений по выбору, предназначенных для изучения.Если в источнике оно неуказано, используется значение «NA».\n",
    "\n",
    "Принятые решения:\n",
    "- Группу произведений считаем как number_titles (в случае, если там указан диапазон, берем нижнюю границу диапазона); \n",
    "если number_titles не указан -- считаем как number_authors; если не указан и он -- как 1 произведение\n",
    "группу в принципе учитываем только если там указано \"зарубежная\" в type (таким образом те, где указано NA, посчитаны не будут, и мы потеряем часть зарубежных произведений --- ну, увы)\n",
    "\n",
    "- Если автор обязательный, а произведения -- нет, при этом для произведений не указана никакая группа по выбору, то все необязательные произведения считаем как одно \n",
    "(если, например, у автора 3 обязательных произведения и 8 необязательных, он должен быть посчитан 3+1=4 раза)\n",
    "\n",
    "- Если автор не обязательный и ни в какую группу не входит, его вообще не считаем\n",
    "(ни среди процента зарубежных/региональных, ни среди общего количества, от которого считаем процент)\n"
   ]
  },
  {
   "cell_type": "code",
   "execution_count": null,
   "metadata": {},
   "outputs": [],
   "source": [
    "sheet_id = '1GwpzLCLKDT3jpnRq4no2VRBeMN8EHHpWfqXiR2qJHv0'\n",
    "gid = '836074625' #'1490854705' общая программа;'727497467' для датасета где только ОГЭ-ЕГЭ в года, когда они есть, '836074625' для датасета, где только рабочие программы\n",
    "csv_url = f'https://docs.google.com/spreadsheets/d/{sheet_id}/export?format=csv&gid={gid}'\n",
    "df_contemporary_hyp_4 = pd.read_csv(csv_url)\n",
    "df_contemporary_hyp_4 = df_contemporary_hyp_4.rename(columns={\"source_year\": \"year\"})\n",
    "#program_list = ['2009–ОГЭ', '2010–ОГЭ', '2011–ОГЭ', '2012–ОГЭ', '2013–ОГЭ', '2014–ОГЭ', '2015–ОГЭ', '2016–ОГЭ', '2017–ОГЭ', '2018–ОГЭ', '2019–ОГЭ', '2020–ОГЭ', '2021–ОГЭ', '2022–ОГЭ', '2023–ОГЭ']\n",
    "#program_list = ['2007–ЕГЭ', '2008–ЕГЭ', '2009–ЕГЭ', '2010–ЕГЭ', '2011–ЕГЭ', '2012–ЕГЭ', '2013–ЕГЭ', '2014–ЕГЭ', '2015–ЕГЭ', '2016–ЕГЭ', '2017–ЕГЭ', '2018–ЕГЭ', '2019–ЕГЭ', '2020–ЕГЭ', '2021–ЕГЭ', '2022–ЕГЭ', '2023–ЕГЭ']\n",
    "df_contemporary_hyp_4 = df_contemporary_hyp_4[df_contemporary_hyp_4['profound'] != 'да']\n",
    "#df_contemporary_hyp_4 = df_contemporary_hyp_4[df_contemporary_hyp_4['source_id'].isin(program_list)]\n",
    "df_contemporary_hyp_4"
   ]
  },
  {
   "cell_type": "code",
   "execution_count": null,
   "metadata": {},
   "outputs": [],
   "source": [
    "def extract_start_of_range(value):\n",
    "    # print(value)\n",
    "    if isinstance(value, (int, str)):\n",
    "        if '-' in value:\n",
    "            return int(value.split('-')[0])\n",
    "        if '–' in value:\n",
    "             return int(value.split('–')[0])\n",
    "        else:\n",
    "            return int(value)\n",
    "    else:  #для значений NA\n",
    "         return value"
   ]
  },
  {
   "cell_type": "code",
   "execution_count": null,
   "metadata": {},
   "outputs": [],
   "source": [
    "years_to_count_cont = []\n",
    "foreign_cont = []\n",
    "regional_cont = []\n",
    "for year in range(1998, 2024):\n",
    "        df_year =  df_contemporary_hyp_4[((df_contemporary_hyp_4['year']) == year)]\n",
    "\n",
    "        # print(df_year)\n",
    "        #смотрим на часть с группами\n",
    "        df_year_groups = df_year[df_year['group'].notna()].copy().drop_duplicates('group') #оставили каждую группу один раз\n",
    "\n",
    "        # print(df_year_groups['group'].value_counts())\n",
    "\n",
    "        df_year_groups['number_titles'] = df_year_groups['number_titles'].apply(lambda x: extract_start_of_range(x)) #привели значения типа 3-4 к номерам типа 3\n",
    "\n",
    "        # print(df_year_groups)\n",
    "\n",
    "        count_foreign = 0\n",
    "        count_regional = 0\n",
    "        count_all = 0 #чтобы потом нормально посчитать процент зарубежных и региональных, с учетом обязательности - необязательности \n",
    "        \n",
    "        for index1, row1 in df_year_groups.iterrows():\n",
    "                to_add = 0\n",
    "                if not math.isnan(row1['number_titles']):\n",
    "                    to_add += row1['number_titles']\n",
    "                elif not math.isnan(row1['number_authors']):\n",
    "                    to_add += row1['number_authors']\n",
    "                else:\n",
    "                    to_add += 1\n",
    "\n",
    "                count_all += to_add\n",
    "                if row1['type'] == \"зарубежная\":\n",
    "                    count_foreign += to_add\n",
    "                elif row1['type'] == \"региональная\":\n",
    "                    count_regional += to_add\n",
    "\n",
    "        # print(\"counts\", count_foreign, count_regional, count_all)\n",
    "\n",
    "        #смотрим на часть без групп\n",
    "        df_year_not_groups = df_year[df_year['group'].isna()].copy()\n",
    "\n",
    "        # print(df_year_not_groups)\n",
    "\n",
    "        authors_to_add_foreign = set() #добавим сюда всех авторов, у которых произведения не обязательны для прохождения\n",
    "        authors_to_add_regional = set()\n",
    "        authors_to_add_all = set()\n",
    "        for index1, row1 in df_year_not_groups.iterrows():\n",
    "                if row1[\"oblig_author\"] == \"да\":\n",
    "                    if row1[\"oblig_title\"] == \"да\":\n",
    "                        count_all += 1\n",
    "                        # print(\"added one\")\n",
    "                        if row1['type'] == \"зарубежная\":\n",
    "                            count_foreign += 1\n",
    "                        elif row1['type'] == \"региональная\":\n",
    "                              count_regional += 1\n",
    "\n",
    "                    else:\n",
    "                        authors_to_add_all.add(row1[\"author\"])\n",
    "                        if row1['type'] == \"зарубежная\":\n",
    "                            authors_to_add_foreign.add(row1[\"author\"])\n",
    "                        elif row1['type'] == \"региональная\":\n",
    "                             authors_to_add_regional.add(row1[\"author\"])    \n",
    "                \n",
    "        count_foreign += len(authors_to_add_foreign)\n",
    "        count_regional += len(authors_to_add_regional)\n",
    "        count_all += len(authors_to_add_all)\n",
    "\n",
    "        # print(\"counts\", count_all, count_foreign, count_regional)\n",
    "\n",
    "        if len(df_year) > 0:        \n",
    "            years_to_count_cont.append(year)\n",
    "            foreign_cont.append(round(count_foreign/count_all * 100, 3))\n",
    "            regional_cont.append(round(count_regional/count_all * 100, 3))\n",
    "            print(year, \"   \", round(count_foreign/count_all * 100, 3), \"\", \"   \", round(count_regional/count_all * 100, 3))\n",
    "        else:\n",
    "            print(year, \" no data\")\n"
   ]
  },
  {
   "cell_type": "code",
   "execution_count": null,
   "metadata": {},
   "outputs": [],
   "source": [
    "years_to_count_cont, len(years_to_count_cont)"
   ]
  },
  {
   "cell_type": "code",
   "execution_count": null,
   "metadata": {},
   "outputs": [],
   "source": [
    "plt.bar(years_to_count_cont, foreign_cont)\n",
    "plt.show()"
   ]
  },
  {
   "cell_type": "code",
   "execution_count": null,
   "metadata": {},
   "outputs": [],
   "source": [
    "years_to_count_sov.extend(years_to_count_cont)\n",
    "foreign_sov.extend(foreign_cont)\n",
    "regional_sov.extend(regional_cont)\n",
    "plt.bar(years_to_count_sov, foreign_sov)\n",
    "plt.show()"
   ]
  },
  {
   "cell_type": "markdown",
   "metadata": {},
   "source": [
    "Теперь попробуем посчитать для современного датасета без всех этих принятых решений, просто каждое произведение считаем один раз, вне зависимости от обязательности"
   ]
  },
  {
   "cell_type": "code",
   "execution_count": null,
   "metadata": {},
   "outputs": [],
   "source": [
    "for year in range(1998,2023):\n",
    "        df_year =  df_contemporary_hyp_4[((df_contemporary_hyp_4['year']) == year)]\n",
    "\n",
    "        # Get unique pairs of values from columns A and B\n",
    "        unique_pairs_year = df_year[['author', 'title', 'type']].drop_duplicates().dropna(subset=['type']) #непонятно, делать ли dropna, делать ли по конкретному столбцу...\n",
    "\n",
    "        # print(unique_pairs_year)\n",
    "\n",
    "        count_foreign = 0\n",
    "        count_regional = 0\n",
    "        for index1, row1 in unique_pairs_year.iterrows():\n",
    "                if row1['type'] == \"зарубежная\":\n",
    "                        count_foreign += 1\n",
    "                elif row1['type'] == \"региональная\":\n",
    "                        count_regional += 1\n",
    "\n",
    "        if len(unique_pairs_year) > 0:\n",
    "            years_to_count_sov.append(year)\n",
    "            foreign_sov.append(round(count_foreign/len(unique_pairs_year) * 100, 3))\n",
    "            regional_sov.append(round(count_regional/len(unique_pairs_year) * 100, 3))        \n",
    "            print(year, round(count_foreign/len(unique_pairs_year) * 100, 3), round(count_regional/len(unique_pairs_year) * 100, 3))\n",
    "        else:\n",
    "            print(year, \"-\")"
   ]
  },
  {
   "cell_type": "markdown",
   "metadata": {},
   "source": [
    "Выброс 2004 года объясняется тем, что в этом году отдельно прописана ещё программа для углубленного изучения литературы. Интересно, что и региональной, и зарубежной литературы стало больше в 2021-22."
   ]
  },
  {
   "cell_type": "markdown",
   "metadata": {},
   "source": [
    "\n",
    "Теперь рассмотрим гипотезу 5. "
   ]
  },
  {
   "cell_type": "code",
   "execution_count": 101,
   "metadata": {},
   "outputs": [],
   "source": [
    "sheet_id = '1GwpzLCLKDT3jpnRq4no2VRBeMN8EHHpWfqXiR2qJHv0'\n",
    "gid = '607689667' #607689667 для листа с размеченной зарубежностью и веком, 344724416 для оригинального листа без нее\n",
    "csv_url = f'https://docs.google.com/spreadsheets/d/{sheet_id}/export?format=csv&gid={gid}'\n",
    "df_soviet_hyp_5 = pd.read_csv(csv_url)\n",
    "# df_soviet = df_soviet[df_soviet['priority'] != '*']\n",
    "\n",
    "sheet_id = '1GwpzLCLKDT3jpnRq4no2VRBeMN8EHHpWfqXiR2qJHv0'\n",
    "gid = '727497467' #1490854705 для общей программы;'727497467' для датасета где для 2007 и позже только ОГЭ-ЕГЭ, '836074625' для датасета, где только рабочие программы\n",
    "csv_url = f'https://docs.google.com/spreadsheets/d/{sheet_id}/export?format=csv&gid={gid}'\n",
    "df_contemporary_hyp_5 = pd.read_csv(csv_url)\n",
    "# df_contemporary_hyp_5 = df_contemporary_hyp_5[df_contemporary_hyp_5['group'].isnull()] #убрали необязательное\n",
    "# df_contemporary_hyp_5 = df_contemporary_hyp_5[(df_contemporary_hyp_5['oblig_title'] != 'нет') | (df_contemporary_hyp_5['source_year'].isin([1998, 1999]))] #убрали необязательное кроме годов 98-99, где его очень много\n",
    "df_contemporary_hyp_5 = df_contemporary_hyp_5.rename(columns={\"source_year\": \"year\"})\n",
    "df_contemporary_hyp_5 = df_contemporary_hyp_5[df_contemporary_hyp_5['type'] == 'отечественная']\n",
    "\n",
    "df_soviet_hyp_5.dropna(subset=['year'], inplace=True)\n",
    "df_soviet_hyp_5['year'] = df_soviet_hyp_5['year'].astype(str)\n",
    "df_soviet_hyp_5['year'] = df_soviet_hyp_5['year'].str.split('-').str[0]\n",
    "df_soviet_hyp_5['year'] = df_soviet_hyp_5['year'].str.split('.').str[0]\n",
    "df_soviet_hyp_5['year'] = df_soviet_hyp_5['year'].astype(int)\n",
    "df_soviet_hyp_5 = df_soviet_hyp_5[df_soviet_hyp_5['type'] == 'отечественная']\n",
    "# df_soviet_hyp_5"
   ]
  },
  {
   "cell_type": "code",
   "execution_count": 113,
   "metadata": {},
   "outputs": [],
   "source": [
    "def count_centuries(unique_pairs_year, centuries_this_year, centuries):\n",
    "     for index1, row1 in unique_pairs_year.iterrows():\n",
    "            if row1['century'] in ['19', '20', '18']:\n",
    "                centuries_this_year[row1['century']] += 1\n",
    "            centuries[row1['century']] += 1 \n",
    "\n",
    "def count_percents_and_print_centuries_this_year(year, centuries_this_year):\n",
    "     if centuries_this_year != {'20': 0, '19': 0, '18': 0}:\n",
    "            total_this_year = sum(centuries_this_year.values())\n",
    "            for key in centuries_this_year:\n",
    "                centuries_this_year[key] /= (total_this_year/100)\n",
    "                centuries_this_year[key] = (round(centuries_this_year[key], 3))\n",
    "     print(year, centuries_this_year)\n",
    "\n",
    "\n",
    "def count_percents_and_print_centuries(centuries):\n",
    "    total = sum(centuries.values())\n",
    "    # print(total)\n",
    "    for key in centuries:\n",
    "        centuries[key]/= (total/100)\n",
    "        centuries[key] = (round(centuries[key], 3))\n",
    "    centuries = sorted(centuries.items(), key=lambda x:x[1], reverse=True)\n",
    "    print(centuries)\n",
    "\n",
    "\n",
    "        "
   ]
  },
  {
   "cell_type": "code",
   "execution_count": 114,
   "metadata": {},
   "outputs": [],
   "source": [
    "def count_and_display_centuries_for_df(min_year, max_year, df_program):\n",
    "        centuries = {\"–5\":0, \"11\": 0, \"12\": 0, \"13\": 0, \"14\": 0, \"15\":0, \"16\":0, \"17\":0, \"18\":0, \"19\":0, \"20\":0, \"21\":0, \"9–8\":0, \"8–7\":0, \"8–10\":0, \"7–5\":0, \"11–12\":0, \"11–14\":0, \"11–17\":0, \"12–13\":0, \"13–16\":0, \"15–16\":0, \"16–17\":0, \"17–18\":0, \"18–19\":0, \"19–20\":0, \"20–21\":0}#\n",
    "        for year in range(min_year, max_year+1): \n",
    "                df_year = df_program[((df_program['year']) == year)] \n",
    "                centuries_this_year = {'20':0,'19':0,'18':0}\n",
    "                unique_pairs_year = df_year[['author', 'title', 'century']].drop_duplicates().dropna(subset='century') #очень важно не забывать сделать dropna, иначе счёт не сходится\n",
    "                count_centuries(unique_pairs_year, centuries_this_year, centuries)\n",
    "                count_percents_and_print_centuries_this_year(year, centuries_this_year)\n",
    "\n",
    "        count_percents_and_print_centuries(centuries)"
   ]
  },
  {
   "cell_type": "code",
   "execution_count": null,
   "metadata": {},
   "outputs": [],
   "source": [
    "count_and_display_centuries_for_df(1919,1992,df_soviet_hyp_5)"
   ]
  },
  {
   "cell_type": "code",
   "execution_count": null,
   "metadata": {},
   "outputs": [],
   "source": [
    "count_and_display_centuries_for_df(1998,2023,df_contemporary_hyp_5)"
   ]
  },
  {
   "cell_type": "markdown",
   "metadata": {},
   "source": [
    "Вывод: мы видим, что 20 и 19 века примерно поровну, а в современной программе 20 века даже больше."
   ]
  }
 ],
 "metadata": {
  "kernelspec": {
   "display_name": "Python 3",
   "language": "python",
   "name": "python3"
  },
  "language_info": {
   "codemirror_mode": {
    "name": "ipython",
    "version": 3
   },
   "file_extension": ".py",
   "mimetype": "text/x-python",
   "name": "python",
   "nbconvert_exporter": "python",
   "pygments_lexer": "ipython3",
   "version": "3.11.1"
  }
 },
 "nbformat": 4,
 "nbformat_minor": 2
}
